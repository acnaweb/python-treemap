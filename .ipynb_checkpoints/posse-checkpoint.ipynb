{
 "cells": [
  {
   "cell_type": "code",
   "execution_count": 4,
   "metadata": {},
   "outputs": [],
   "source": [
    "import pandas as pd\n",
    "import plotly.express as px"
   ]
  },
  {
   "cell_type": "code",
   "execution_count": 7,
   "metadata": {},
   "outputs": [
    {
     "data": {
      "text/html": [
       "<div>\n",
       "<style scoped>\n",
       "    .dataframe tbody tr th:only-of-type {\n",
       "        vertical-align: middle;\n",
       "    }\n",
       "\n",
       "    .dataframe tbody tr th {\n",
       "        vertical-align: top;\n",
       "    }\n",
       "\n",
       "    .dataframe thead th {\n",
       "        text-align: right;\n",
       "    }\n",
       "</style>\n",
       "<table border=\"1\" class=\"dataframe\">\n",
       "  <thead>\n",
       "    <tr style=\"text-align: right;\">\n",
       "      <th></th>\n",
       "      <th>EQUIPE</th>\n",
       "      <th>JOGADOR</th>\n",
       "      <th>POSICAO</th>\n",
       "      <th>ID</th>\n",
       "      <th>Q</th>\n",
       "      <th>TEMPO</th>\n",
       "      <th>MOMENTO</th>\n",
       "      <th>DURACAO</th>\n",
       "      <th>FUNDAMENTO</th>\n",
       "      <th>ALL</th>\n",
       "    </tr>\n",
       "  </thead>\n",
       "  <tbody>\n",
       "    <tr>\n",
       "      <th>0</th>\n",
       "      <td>Atlético-GO</td>\n",
       "      <td>Jean</td>\n",
       "      <td>Goleiro</td>\n",
       "      <td>46563260</td>\n",
       "      <td>3</td>\n",
       "      <td>2</td>\n",
       "      <td>403</td>\n",
       "      <td>26</td>\n",
       "      <td>lancamento</td>\n",
       "      <td>ALL</td>\n",
       "    </tr>\n",
       "    <tr>\n",
       "      <th>1</th>\n",
       "      <td>Atlético-MG</td>\n",
       "      <td>Everson</td>\n",
       "      <td>Goleiro</td>\n",
       "      <td>46578326</td>\n",
       "      <td>4</td>\n",
       "      <td>4</td>\n",
       "      <td>1843</td>\n",
       "      <td>19</td>\n",
       "      <td>lancamento</td>\n",
       "      <td>ALL</td>\n",
       "    </tr>\n",
       "    <tr>\n",
       "      <th>2</th>\n",
       "      <td>Atlético-GO</td>\n",
       "      <td>Jean</td>\n",
       "      <td>Goleiro</td>\n",
       "      <td>46574017</td>\n",
       "      <td>3</td>\n",
       "      <td>4</td>\n",
       "      <td>78</td>\n",
       "      <td>17</td>\n",
       "      <td>lancamento</td>\n",
       "      <td>ALL</td>\n",
       "    </tr>\n",
       "    <tr>\n",
       "      <th>3</th>\n",
       "      <td>Atlético-GO</td>\n",
       "      <td>Jean</td>\n",
       "      <td>Goleiro</td>\n",
       "      <td>46567281</td>\n",
       "      <td>2</td>\n",
       "      <td>2</td>\n",
       "      <td>1568</td>\n",
       "      <td>16</td>\n",
       "      <td>lancamento</td>\n",
       "      <td>ALL</td>\n",
       "    </tr>\n",
       "    <tr>\n",
       "      <th>4</th>\n",
       "      <td>Atlético-GO</td>\n",
       "      <td>Gilvan</td>\n",
       "      <td>Zagueiro</td>\n",
       "      <td>46576263</td>\n",
       "      <td>7</td>\n",
       "      <td>4</td>\n",
       "      <td>938</td>\n",
       "      <td>14</td>\n",
       "      <td>passe</td>\n",
       "      <td>ALL</td>\n",
       "    </tr>\n",
       "    <tr>\n",
       "      <th>...</th>\n",
       "      <td>...</td>\n",
       "      <td>...</td>\n",
       "      <td>...</td>\n",
       "      <td>...</td>\n",
       "      <td>...</td>\n",
       "      <td>...</td>\n",
       "      <td>...</td>\n",
       "      <td>...</td>\n",
       "      <td>...</td>\n",
       "      <td>...</td>\n",
       "    </tr>\n",
       "    <tr>\n",
       "      <th>909</th>\n",
       "      <td>Atlético-GO</td>\n",
       "      <td>Gustavo Ferrareis</td>\n",
       "      <td>Meia</td>\n",
       "      <td>46574027</td>\n",
       "      <td>20</td>\n",
       "      <td>4</td>\n",
       "      <td>96</td>\n",
       "      <td>1</td>\n",
       "      <td>passe</td>\n",
       "      <td>ALL</td>\n",
       "    </tr>\n",
       "    <tr>\n",
       "      <th>910</th>\n",
       "      <td>Atlético-GO</td>\n",
       "      <td>Jean</td>\n",
       "      <td>Goleiro</td>\n",
       "      <td>46573989</td>\n",
       "      <td>3</td>\n",
       "      <td>4</td>\n",
       "      <td>76</td>\n",
       "      <td>1</td>\n",
       "      <td>defesa</td>\n",
       "      <td>ALL</td>\n",
       "    </tr>\n",
       "    <tr>\n",
       "      <th>911</th>\n",
       "      <td>Atlético-MG</td>\n",
       "      <td>Junior Alonso</td>\n",
       "      <td>Lateral esquerdo</td>\n",
       "      <td>46573953</td>\n",
       "      <td>20</td>\n",
       "      <td>4</td>\n",
       "      <td>67</td>\n",
       "      <td>1</td>\n",
       "      <td>passe</td>\n",
       "      <td>ALL</td>\n",
       "    </tr>\n",
       "    <tr>\n",
       "      <th>912</th>\n",
       "      <td>Atlético-GO</td>\n",
       "      <td>Chico</td>\n",
       "      <td>Meia</td>\n",
       "      <td>46573828</td>\n",
       "      <td>23</td>\n",
       "      <td>4</td>\n",
       "      <td>23</td>\n",
       "      <td>1</td>\n",
       "      <td>faltaRecebida</td>\n",
       "      <td>ALL</td>\n",
       "    </tr>\n",
       "    <tr>\n",
       "      <th>913</th>\n",
       "      <td>Atlético-GO</td>\n",
       "      <td>Oliveira</td>\n",
       "      <td>Zagueiro</td>\n",
       "      <td>46573822</td>\n",
       "      <td>17</td>\n",
       "      <td>4</td>\n",
       "      <td>21</td>\n",
       "      <td>1</td>\n",
       "      <td>passe</td>\n",
       "      <td>ALL</td>\n",
       "    </tr>\n",
       "  </tbody>\n",
       "</table>\n",
       "<p>914 rows × 10 columns</p>\n",
       "</div>"
      ],
      "text/plain": [
       "          EQUIPE            JOGADOR           POSICAO        ID   Q  TEMPO  \\\n",
       "0    Atlético-GO               Jean           Goleiro  46563260   3      2   \n",
       "1    Atlético-MG            Everson           Goleiro  46578326   4      4   \n",
       "2    Atlético-GO               Jean           Goleiro  46574017   3      4   \n",
       "3    Atlético-GO               Jean           Goleiro  46567281   2      2   \n",
       "4    Atlético-GO             Gilvan          Zagueiro  46576263   7      4   \n",
       "..           ...                ...               ...       ...  ..    ...   \n",
       "909  Atlético-GO  Gustavo Ferrareis              Meia  46574027  20      4   \n",
       "910  Atlético-GO               Jean           Goleiro  46573989   3      4   \n",
       "911  Atlético-MG      Junior Alonso  Lateral esquerdo  46573953  20      4   \n",
       "912  Atlético-GO              Chico              Meia  46573828  23      4   \n",
       "913  Atlético-GO           Oliveira          Zagueiro  46573822  17      4   \n",
       "\n",
       "     MOMENTO  DURACAO     FUNDAMENTO  ALL  \n",
       "0        403       26     lancamento  ALL  \n",
       "1       1843       19     lancamento  ALL  \n",
       "2         78       17     lancamento  ALL  \n",
       "3       1568       16     lancamento  ALL  \n",
       "4        938       14          passe  ALL  \n",
       "..       ...      ...            ...  ...  \n",
       "909       96        1          passe  ALL  \n",
       "910       76        1         defesa  ALL  \n",
       "911       67        1          passe  ALL  \n",
       "912       23        1  faltaRecebida  ALL  \n",
       "913       21        1          passe  ALL  \n",
       "\n",
       "[914 rows x 10 columns]"
      ]
     },
     "execution_count": 7,
     "metadata": {},
     "output_type": "execute_result"
    }
   ],
   "source": [
    "df = pd.read_csv(\"posse.csv\", sep = \",\")\n",
    "df[\"ALL\"] = \"ALL\"\n",
    "df"
   ]
  },
  {
   "cell_type": "code",
   "execution_count": 9,
   "metadata": {},
   "outputs": [
    {
     "data": {
      "application/vnd.plotly.v1+json": {
       "config": {
        "plotlyServerURL": "https://plot.ly"
       },
       "data": [
        {
         "branchvalues": "total",
         "customdata": [
          [
           1.9210526315789473
          ],
          [
           1.4186046511627908
          ],
          [
           2.22
          ],
          [
           2.3333333333333335
          ],
          [
           1.8823529411764706
          ],
          [
           1.380952380952381
          ],
          [
           2.760869565217391
          ],
          [
           2.8666666666666667
          ],
          [
           2.7333333333333334
          ],
          [
           1.78125
          ],
          [
           1.5522388059701493
          ],
          [
           2.2564102564102564
          ],
          [
           1.7241379310344827
          ],
          [
           1.5352112676056338
          ],
          [
           2.7419354838709675
          ],
          [
           4.164383561643835
          ],
          [
           2.472972972972973
          ],
          [
           1.9058823529411764
          ],
          [
           2.575
          ],
          [
           1.6923076923076923
          ],
          [
           1.8571428571428572
          ],
          [
           1.4
          ],
          [
           1.6
          ],
          [
           1.9
          ],
          [
           1.88135593220339
          ],
          [
           1.6521739130434783
          ],
          [
           2.236842105263158
          ],
          [
           1.6989247311827957
          ],
          [
           2.6666666666666665
          ],
          [
           2
          ],
          [
           2.0833333333333335
          ],
          [
           2.463768115942029
          ],
          [
           2.1492537313432836
          ],
          [
           4.164383561643835
          ],
          [
           2.760869565217391
          ],
          [
           2.3333333333333335
          ],
          [
           1.7205882352941178
          ],
          [
           1.88135593220339
          ],
          [
           1.75
          ],
          [
           2.2046783625730995
          ],
          [
           2.135135135135135
          ],
          [
           1.8823529411764706
          ],
          [
           1.4912280701754386
          ],
          [
           2.302857142857143
          ],
          [
           1.7086092715231789
          ],
          [
           2.4107692307692306
          ],
          [
           1.8603667136812412
          ],
          [
           2.123620309050773
          ]
         ],
         "domain": {
          "x": [
           0,
           1
          ],
          "y": [
           0,
           1
          ]
         },
         "hovertemplate": "labels=%{label}<br>TEMPO=%{value}<br>parent=%{parent}<br>id=%{id}<br>DURACAO=%{color}<extra></extra>",
         "ids": [
          "ALL/Atlético-MG/Meia/Alan Franco",
          "ALL/Atlético-MG/Volante/Allan",
          "ALL/Atlético-GO/Meia/Chico",
          "ALL/Atlético-GO/Lateral direito/Dudu",
          "ALL/Atlético-GO/Volante/Edson",
          "ALL/Atlético-MG/Atacante/Eduardo Sasha",
          "ALL/Atlético-MG/Goleiro/Everson",
          "ALL/Atlético-GO/Meia/Everton Felipe",
          "ALL/Atlético-GO/Zagueiro/Gilvan",
          "ALL/Atlético-MG/Lateral direito/Guga",
          "ALL/Atlético-MG/Lateral esquerdo/Guilherme Arana",
          "ALL/Atlético-GO/Meia/Gustavo Ferrareis",
          "ALL/Atlético-MG/Zagueiro/Igor Rabello",
          "ALL/Atlético-MG/Volante/Jair",
          "ALL/Atlético-GO/Atacante/Janderson",
          "ALL/Atlético-GO/Goleiro/Jean",
          "ALL/Atlético-GO/Zagueiro/João Victor",
          "ALL/Atlético-MG/Lateral esquerdo/Junior Alonso",
          "ALL/Atlético-MG/Atacante/Keno",
          "ALL/Atlético-MG/Lateral direito/Mariano",
          "ALL/Atlético-GO/Meia/Matheus Vargas",
          "ALL/Atlético-GO/Meia/Matheuzinho",
          "ALL/Atlético-MG/Lateral direito/Maílton",
          "ALL/Atlético-MG/Meia/Nathan",
          "ALL/Atlético-GO/Lateral esquerdo/Nicolas",
          "ALL/Atlético-GO/Zagueiro/Oliveira",
          "ALL/Atlético-GO/Atacante/Renato Kayzer",
          "ALL/Atlético-MG/Zagueiro/Réver",
          "ALL/Atlético-MG/Meia/Savarino",
          "ALL/Atlético-MG/Atacante/Sávio",
          "ALL/Atlético-GO/Zagueiro/Éder Ferreira",
          "ALL/Atlético-GO/Atacante",
          "ALL/Atlético-MG/Atacante",
          "ALL/Atlético-GO/Goleiro",
          "ALL/Atlético-MG/Goleiro",
          "ALL/Atlético-GO/Lateral direito",
          "ALL/Atlético-MG/Lateral direito",
          "ALL/Atlético-GO/Lateral esquerdo",
          "ALL/Atlético-MG/Lateral esquerdo",
          "ALL/Atlético-GO/Meia",
          "ALL/Atlético-MG/Meia",
          "ALL/Atlético-GO/Volante",
          "ALL/Atlético-MG/Volante",
          "ALL/Atlético-GO/Zagueiro",
          "ALL/Atlético-MG/Zagueiro",
          "ALL/Atlético-GO",
          "ALL/Atlético-MG",
          "ALL"
         ],
         "labels": [
          "Alan Franco",
          "Allan",
          "Chico",
          "Dudu",
          "Edson",
          "Eduardo Sasha",
          "Everson",
          "Everton Felipe",
          "Gilvan",
          "Guga",
          "Guilherme Arana",
          "Gustavo Ferrareis",
          "Igor Rabello",
          "Jair",
          "Janderson",
          "Jean",
          "João Victor",
          "Junior Alonso",
          "Keno",
          "Mariano",
          "Matheus Vargas",
          "Matheuzinho",
          "Maílton",
          "Nathan",
          "Nicolas",
          "Oliveira",
          "Renato Kayzer",
          "Réver",
          "Savarino",
          "Sávio",
          "Éder Ferreira",
          "Atacante",
          "Atacante",
          "Goleiro",
          "Goleiro",
          "Lateral direito",
          "Lateral direito",
          "Lateral esquerdo",
          "Lateral esquerdo",
          "Meia",
          "Meia",
          "Volante",
          "Volante",
          "Zagueiro",
          "Zagueiro",
          "Atlético-GO",
          "Atlético-MG",
          "ALL"
         ],
         "marker": {
          "coloraxis": "coloraxis",
          "colors": [
           1.9210526315789473,
           1.4186046511627908,
           2.22,
           2.3333333333333335,
           1.8823529411764706,
           1.380952380952381,
           2.760869565217391,
           2.8666666666666667,
           2.7333333333333334,
           1.78125,
           1.5522388059701493,
           2.2564102564102564,
           1.7241379310344827,
           1.5352112676056338,
           2.7419354838709675,
           4.164383561643835,
           2.472972972972973,
           1.9058823529411764,
           2.575,
           1.6923076923076923,
           1.8571428571428572,
           1.4,
           1.6,
           1.9,
           1.88135593220339,
           1.6521739130434783,
           2.236842105263158,
           1.6989247311827957,
           2.6666666666666665,
           2,
           2.0833333333333335,
           2.463768115942029,
           2.1492537313432836,
           4.164383561643835,
           2.760869565217391,
           2.3333333333333335,
           1.7205882352941178,
           1.88135593220339,
           1.75,
           2.2046783625730995,
           2.135135135135135,
           1.8823529411764706,
           1.4912280701754386,
           2.302857142857143,
           1.7086092715231789,
           2.4107692307692306,
           1.8603667136812412,
           2.123620309050773
          ]
         },
         "name": "",
         "parents": [
          "ALL/Atlético-MG/Meia",
          "ALL/Atlético-MG/Volante",
          "ALL/Atlético-GO/Meia",
          "ALL/Atlético-GO/Lateral direito",
          "ALL/Atlético-GO/Volante",
          "ALL/Atlético-MG/Atacante",
          "ALL/Atlético-MG/Goleiro",
          "ALL/Atlético-GO/Meia",
          "ALL/Atlético-GO/Zagueiro",
          "ALL/Atlético-MG/Lateral direito",
          "ALL/Atlético-MG/Lateral esquerdo",
          "ALL/Atlético-GO/Meia",
          "ALL/Atlético-MG/Zagueiro",
          "ALL/Atlético-MG/Volante",
          "ALL/Atlético-GO/Atacante",
          "ALL/Atlético-GO/Goleiro",
          "ALL/Atlético-GO/Zagueiro",
          "ALL/Atlético-MG/Lateral esquerdo",
          "ALL/Atlético-MG/Atacante",
          "ALL/Atlético-MG/Lateral direito",
          "ALL/Atlético-GO/Meia",
          "ALL/Atlético-GO/Meia",
          "ALL/Atlético-MG/Lateral direito",
          "ALL/Atlético-MG/Meia",
          "ALL/Atlético-GO/Lateral esquerdo",
          "ALL/Atlético-GO/Zagueiro",
          "ALL/Atlético-GO/Atacante",
          "ALL/Atlético-MG/Zagueiro",
          "ALL/Atlético-MG/Meia",
          "ALL/Atlético-MG/Atacante",
          "ALL/Atlético-GO/Zagueiro",
          "ALL/Atlético-GO",
          "ALL/Atlético-MG",
          "ALL/Atlético-GO",
          "ALL/Atlético-MG",
          "ALL/Atlético-GO",
          "ALL/Atlético-MG",
          "ALL/Atlético-GO",
          "ALL/Atlético-MG",
          "ALL/Atlético-GO",
          "ALL/Atlético-MG",
          "ALL/Atlético-GO",
          "ALL/Atlético-MG",
          "ALL/Atlético-GO",
          "ALL/Atlético-MG",
          "ALL",
          "ALL",
          ""
         ],
         "type": "treemap",
         "values": [
          76,
          86,
          100,
          36,
          170,
          42,
          92,
          60,
          60,
          64,
          134,
          78,
          116,
          142,
          62,
          146,
          148,
          170,
          80,
          52,
          84,
          20,
          20,
          80,
          118,
          46,
          76,
          186,
          66,
          12,
          96,
          138,
          134,
          146,
          92,
          36,
          136,
          118,
          304,
          342,
          222,
          170,
          228,
          350,
          302,
          1300,
          1418,
          2718
         ]
        }
       ],
       "layout": {
        "coloraxis": {
         "colorbar": {
          "title": {
           "text": "DURACAO"
          }
         },
         "colorscale": [
          [
           0,
           "#0d0887"
          ],
          [
           0.1111111111111111,
           "#46039f"
          ],
          [
           0.2222222222222222,
           "#7201a8"
          ],
          [
           0.3333333333333333,
           "#9c179e"
          ],
          [
           0.4444444444444444,
           "#bd3786"
          ],
          [
           0.5555555555555556,
           "#d8576b"
          ],
          [
           0.6666666666666666,
           "#ed7953"
          ],
          [
           0.7777777777777778,
           "#fb9f3a"
          ],
          [
           0.8888888888888888,
           "#fdca26"
          ],
          [
           1,
           "#f0f921"
          ]
         ]
        },
        "legend": {
         "tracegroupgap": 0
        },
        "margin": {
         "t": 60
        },
        "template": {
         "data": {
          "bar": [
           {
            "error_x": {
             "color": "#2a3f5f"
            },
            "error_y": {
             "color": "#2a3f5f"
            },
            "marker": {
             "line": {
              "color": "#E5ECF6",
              "width": 0.5
             }
            },
            "type": "bar"
           }
          ],
          "barpolar": [
           {
            "marker": {
             "line": {
              "color": "#E5ECF6",
              "width": 0.5
             }
            },
            "type": "barpolar"
           }
          ],
          "carpet": [
           {
            "aaxis": {
             "endlinecolor": "#2a3f5f",
             "gridcolor": "white",
             "linecolor": "white",
             "minorgridcolor": "white",
             "startlinecolor": "#2a3f5f"
            },
            "baxis": {
             "endlinecolor": "#2a3f5f",
             "gridcolor": "white",
             "linecolor": "white",
             "minorgridcolor": "white",
             "startlinecolor": "#2a3f5f"
            },
            "type": "carpet"
           }
          ],
          "choropleth": [
           {
            "colorbar": {
             "outlinewidth": 0,
             "ticks": ""
            },
            "type": "choropleth"
           }
          ],
          "contour": [
           {
            "colorbar": {
             "outlinewidth": 0,
             "ticks": ""
            },
            "colorscale": [
             [
              0,
              "#0d0887"
             ],
             [
              0.1111111111111111,
              "#46039f"
             ],
             [
              0.2222222222222222,
              "#7201a8"
             ],
             [
              0.3333333333333333,
              "#9c179e"
             ],
             [
              0.4444444444444444,
              "#bd3786"
             ],
             [
              0.5555555555555556,
              "#d8576b"
             ],
             [
              0.6666666666666666,
              "#ed7953"
             ],
             [
              0.7777777777777778,
              "#fb9f3a"
             ],
             [
              0.8888888888888888,
              "#fdca26"
             ],
             [
              1,
              "#f0f921"
             ]
            ],
            "type": "contour"
           }
          ],
          "contourcarpet": [
           {
            "colorbar": {
             "outlinewidth": 0,
             "ticks": ""
            },
            "type": "contourcarpet"
           }
          ],
          "heatmap": [
           {
            "colorbar": {
             "outlinewidth": 0,
             "ticks": ""
            },
            "colorscale": [
             [
              0,
              "#0d0887"
             ],
             [
              0.1111111111111111,
              "#46039f"
             ],
             [
              0.2222222222222222,
              "#7201a8"
             ],
             [
              0.3333333333333333,
              "#9c179e"
             ],
             [
              0.4444444444444444,
              "#bd3786"
             ],
             [
              0.5555555555555556,
              "#d8576b"
             ],
             [
              0.6666666666666666,
              "#ed7953"
             ],
             [
              0.7777777777777778,
              "#fb9f3a"
             ],
             [
              0.8888888888888888,
              "#fdca26"
             ],
             [
              1,
              "#f0f921"
             ]
            ],
            "type": "heatmap"
           }
          ],
          "heatmapgl": [
           {
            "colorbar": {
             "outlinewidth": 0,
             "ticks": ""
            },
            "colorscale": [
             [
              0,
              "#0d0887"
             ],
             [
              0.1111111111111111,
              "#46039f"
             ],
             [
              0.2222222222222222,
              "#7201a8"
             ],
             [
              0.3333333333333333,
              "#9c179e"
             ],
             [
              0.4444444444444444,
              "#bd3786"
             ],
             [
              0.5555555555555556,
              "#d8576b"
             ],
             [
              0.6666666666666666,
              "#ed7953"
             ],
             [
              0.7777777777777778,
              "#fb9f3a"
             ],
             [
              0.8888888888888888,
              "#fdca26"
             ],
             [
              1,
              "#f0f921"
             ]
            ],
            "type": "heatmapgl"
           }
          ],
          "histogram": [
           {
            "marker": {
             "colorbar": {
              "outlinewidth": 0,
              "ticks": ""
             }
            },
            "type": "histogram"
           }
          ],
          "histogram2d": [
           {
            "colorbar": {
             "outlinewidth": 0,
             "ticks": ""
            },
            "colorscale": [
             [
              0,
              "#0d0887"
             ],
             [
              0.1111111111111111,
              "#46039f"
             ],
             [
              0.2222222222222222,
              "#7201a8"
             ],
             [
              0.3333333333333333,
              "#9c179e"
             ],
             [
              0.4444444444444444,
              "#bd3786"
             ],
             [
              0.5555555555555556,
              "#d8576b"
             ],
             [
              0.6666666666666666,
              "#ed7953"
             ],
             [
              0.7777777777777778,
              "#fb9f3a"
             ],
             [
              0.8888888888888888,
              "#fdca26"
             ],
             [
              1,
              "#f0f921"
             ]
            ],
            "type": "histogram2d"
           }
          ],
          "histogram2dcontour": [
           {
            "colorbar": {
             "outlinewidth": 0,
             "ticks": ""
            },
            "colorscale": [
             [
              0,
              "#0d0887"
             ],
             [
              0.1111111111111111,
              "#46039f"
             ],
             [
              0.2222222222222222,
              "#7201a8"
             ],
             [
              0.3333333333333333,
              "#9c179e"
             ],
             [
              0.4444444444444444,
              "#bd3786"
             ],
             [
              0.5555555555555556,
              "#d8576b"
             ],
             [
              0.6666666666666666,
              "#ed7953"
             ],
             [
              0.7777777777777778,
              "#fb9f3a"
             ],
             [
              0.8888888888888888,
              "#fdca26"
             ],
             [
              1,
              "#f0f921"
             ]
            ],
            "type": "histogram2dcontour"
           }
          ],
          "mesh3d": [
           {
            "colorbar": {
             "outlinewidth": 0,
             "ticks": ""
            },
            "type": "mesh3d"
           }
          ],
          "parcoords": [
           {
            "line": {
             "colorbar": {
              "outlinewidth": 0,
              "ticks": ""
             }
            },
            "type": "parcoords"
           }
          ],
          "pie": [
           {
            "automargin": true,
            "type": "pie"
           }
          ],
          "scatter": [
           {
            "marker": {
             "colorbar": {
              "outlinewidth": 0,
              "ticks": ""
             }
            },
            "type": "scatter"
           }
          ],
          "scatter3d": [
           {
            "line": {
             "colorbar": {
              "outlinewidth": 0,
              "ticks": ""
             }
            },
            "marker": {
             "colorbar": {
              "outlinewidth": 0,
              "ticks": ""
             }
            },
            "type": "scatter3d"
           }
          ],
          "scattercarpet": [
           {
            "marker": {
             "colorbar": {
              "outlinewidth": 0,
              "ticks": ""
             }
            },
            "type": "scattercarpet"
           }
          ],
          "scattergeo": [
           {
            "marker": {
             "colorbar": {
              "outlinewidth": 0,
              "ticks": ""
             }
            },
            "type": "scattergeo"
           }
          ],
          "scattergl": [
           {
            "marker": {
             "colorbar": {
              "outlinewidth": 0,
              "ticks": ""
             }
            },
            "type": "scattergl"
           }
          ],
          "scattermapbox": [
           {
            "marker": {
             "colorbar": {
              "outlinewidth": 0,
              "ticks": ""
             }
            },
            "type": "scattermapbox"
           }
          ],
          "scatterpolar": [
           {
            "marker": {
             "colorbar": {
              "outlinewidth": 0,
              "ticks": ""
             }
            },
            "type": "scatterpolar"
           }
          ],
          "scatterpolargl": [
           {
            "marker": {
             "colorbar": {
              "outlinewidth": 0,
              "ticks": ""
             }
            },
            "type": "scatterpolargl"
           }
          ],
          "scatterternary": [
           {
            "marker": {
             "colorbar": {
              "outlinewidth": 0,
              "ticks": ""
             }
            },
            "type": "scatterternary"
           }
          ],
          "surface": [
           {
            "colorbar": {
             "outlinewidth": 0,
             "ticks": ""
            },
            "colorscale": [
             [
              0,
              "#0d0887"
             ],
             [
              0.1111111111111111,
              "#46039f"
             ],
             [
              0.2222222222222222,
              "#7201a8"
             ],
             [
              0.3333333333333333,
              "#9c179e"
             ],
             [
              0.4444444444444444,
              "#bd3786"
             ],
             [
              0.5555555555555556,
              "#d8576b"
             ],
             [
              0.6666666666666666,
              "#ed7953"
             ],
             [
              0.7777777777777778,
              "#fb9f3a"
             ],
             [
              0.8888888888888888,
              "#fdca26"
             ],
             [
              1,
              "#f0f921"
             ]
            ],
            "type": "surface"
           }
          ],
          "table": [
           {
            "cells": {
             "fill": {
              "color": "#EBF0F8"
             },
             "line": {
              "color": "white"
             }
            },
            "header": {
             "fill": {
              "color": "#C8D4E3"
             },
             "line": {
              "color": "white"
             }
            },
            "type": "table"
           }
          ]
         },
         "layout": {
          "annotationdefaults": {
           "arrowcolor": "#2a3f5f",
           "arrowhead": 0,
           "arrowwidth": 1
          },
          "coloraxis": {
           "colorbar": {
            "outlinewidth": 0,
            "ticks": ""
           }
          },
          "colorscale": {
           "diverging": [
            [
             0,
             "#8e0152"
            ],
            [
             0.1,
             "#c51b7d"
            ],
            [
             0.2,
             "#de77ae"
            ],
            [
             0.3,
             "#f1b6da"
            ],
            [
             0.4,
             "#fde0ef"
            ],
            [
             0.5,
             "#f7f7f7"
            ],
            [
             0.6,
             "#e6f5d0"
            ],
            [
             0.7,
             "#b8e186"
            ],
            [
             0.8,
             "#7fbc41"
            ],
            [
             0.9,
             "#4d9221"
            ],
            [
             1,
             "#276419"
            ]
           ],
           "sequential": [
            [
             0,
             "#0d0887"
            ],
            [
             0.1111111111111111,
             "#46039f"
            ],
            [
             0.2222222222222222,
             "#7201a8"
            ],
            [
             0.3333333333333333,
             "#9c179e"
            ],
            [
             0.4444444444444444,
             "#bd3786"
            ],
            [
             0.5555555555555556,
             "#d8576b"
            ],
            [
             0.6666666666666666,
             "#ed7953"
            ],
            [
             0.7777777777777778,
             "#fb9f3a"
            ],
            [
             0.8888888888888888,
             "#fdca26"
            ],
            [
             1,
             "#f0f921"
            ]
           ],
           "sequentialminus": [
            [
             0,
             "#0d0887"
            ],
            [
             0.1111111111111111,
             "#46039f"
            ],
            [
             0.2222222222222222,
             "#7201a8"
            ],
            [
             0.3333333333333333,
             "#9c179e"
            ],
            [
             0.4444444444444444,
             "#bd3786"
            ],
            [
             0.5555555555555556,
             "#d8576b"
            ],
            [
             0.6666666666666666,
             "#ed7953"
            ],
            [
             0.7777777777777778,
             "#fb9f3a"
            ],
            [
             0.8888888888888888,
             "#fdca26"
            ],
            [
             1,
             "#f0f921"
            ]
           ]
          },
          "colorway": [
           "#636efa",
           "#EF553B",
           "#00cc96",
           "#ab63fa",
           "#FFA15A",
           "#19d3f3",
           "#FF6692",
           "#B6E880",
           "#FF97FF",
           "#FECB52"
          ],
          "font": {
           "color": "#2a3f5f"
          },
          "geo": {
           "bgcolor": "white",
           "lakecolor": "white",
           "landcolor": "#E5ECF6",
           "showlakes": true,
           "showland": true,
           "subunitcolor": "white"
          },
          "hoverlabel": {
           "align": "left"
          },
          "hovermode": "closest",
          "mapbox": {
           "style": "light"
          },
          "paper_bgcolor": "white",
          "plot_bgcolor": "#E5ECF6",
          "polar": {
           "angularaxis": {
            "gridcolor": "white",
            "linecolor": "white",
            "ticks": ""
           },
           "bgcolor": "#E5ECF6",
           "radialaxis": {
            "gridcolor": "white",
            "linecolor": "white",
            "ticks": ""
           }
          },
          "scene": {
           "xaxis": {
            "backgroundcolor": "#E5ECF6",
            "gridcolor": "white",
            "gridwidth": 2,
            "linecolor": "white",
            "showbackground": true,
            "ticks": "",
            "zerolinecolor": "white"
           },
           "yaxis": {
            "backgroundcolor": "#E5ECF6",
            "gridcolor": "white",
            "gridwidth": 2,
            "linecolor": "white",
            "showbackground": true,
            "ticks": "",
            "zerolinecolor": "white"
           },
           "zaxis": {
            "backgroundcolor": "#E5ECF6",
            "gridcolor": "white",
            "gridwidth": 2,
            "linecolor": "white",
            "showbackground": true,
            "ticks": "",
            "zerolinecolor": "white"
           }
          },
          "shapedefaults": {
           "line": {
            "color": "#2a3f5f"
           }
          },
          "ternary": {
           "aaxis": {
            "gridcolor": "white",
            "linecolor": "white",
            "ticks": ""
           },
           "baxis": {
            "gridcolor": "white",
            "linecolor": "white",
            "ticks": ""
           },
           "bgcolor": "#E5ECF6",
           "caxis": {
            "gridcolor": "white",
            "linecolor": "white",
            "ticks": ""
           }
          },
          "title": {
           "x": 0.05
          },
          "xaxis": {
           "automargin": true,
           "gridcolor": "white",
           "linecolor": "white",
           "ticks": "",
           "title": {
            "standoff": 15
           },
           "zerolinecolor": "white",
           "zerolinewidth": 2
          },
          "yaxis": {
           "automargin": true,
           "gridcolor": "white",
           "linecolor": "white",
           "ticks": "",
           "title": {
            "standoff": 15
           },
           "zerolinecolor": "white",
           "zerolinewidth": 2
          }
         }
        }
       }
      },
      "text/html": [
       "<div>                            <div id=\"60c46c4a-a7e6-4587-a968-9e8851dcfe74\" class=\"plotly-graph-div\" style=\"height:525px; width:100%;\"></div>            <script type=\"text/javascript\">                require([\"plotly\"], function(Plotly) {                    window.PLOTLYENV=window.PLOTLYENV || {};                                    if (document.getElementById(\"60c46c4a-a7e6-4587-a968-9e8851dcfe74\")) {                    Plotly.newPlot(                        \"60c46c4a-a7e6-4587-a968-9e8851dcfe74\",                        [{\"branchvalues\": \"total\", \"customdata\": [[1.9210526315789473], [1.4186046511627908], [2.22], [2.3333333333333335], [1.8823529411764706], [1.380952380952381], [2.760869565217391], [2.8666666666666667], [2.7333333333333334], [1.78125], [1.5522388059701493], [2.2564102564102564], [1.7241379310344827], [1.5352112676056338], [2.7419354838709675], [4.164383561643835], [2.472972972972973], [1.9058823529411764], [2.575], [1.6923076923076923], [1.8571428571428572], [1.4], [1.6], [1.9], [1.88135593220339], [1.6521739130434783], [2.236842105263158], [1.6989247311827957], [2.6666666666666665], [2.0], [2.0833333333333335], [2.463768115942029], [2.1492537313432836], [4.164383561643835], [2.760869565217391], [2.3333333333333335], [1.7205882352941178], [1.88135593220339], [1.75], [2.2046783625730995], [2.135135135135135], [1.8823529411764706], [1.4912280701754386], [2.302857142857143], [1.7086092715231789], [2.4107692307692306], [1.8603667136812412], [2.123620309050773]], \"domain\": {\"x\": [0.0, 1.0], \"y\": [0.0, 1.0]}, \"hovertemplate\": \"labels=%{label}<br>TEMPO=%{value}<br>parent=%{parent}<br>id=%{id}<br>DURACAO=%{color}<extra></extra>\", \"ids\": [\"ALL/Atl\\u00e9tico-MG/Meia/Alan Franco\", \"ALL/Atl\\u00e9tico-MG/Volante/Allan\", \"ALL/Atl\\u00e9tico-GO/Meia/Chico\", \"ALL/Atl\\u00e9tico-GO/Lateral direito/Dudu\", \"ALL/Atl\\u00e9tico-GO/Volante/Edson\", \"ALL/Atl\\u00e9tico-MG/Atacante/Eduardo Sasha\", \"ALL/Atl\\u00e9tico-MG/Goleiro/Everson\", \"ALL/Atl\\u00e9tico-GO/Meia/Everton Felipe\", \"ALL/Atl\\u00e9tico-GO/Zagueiro/Gilvan\", \"ALL/Atl\\u00e9tico-MG/Lateral direito/Guga\", \"ALL/Atl\\u00e9tico-MG/Lateral esquerdo/Guilherme Arana\", \"ALL/Atl\\u00e9tico-GO/Meia/Gustavo Ferrareis\", \"ALL/Atl\\u00e9tico-MG/Zagueiro/Igor Rabello\", \"ALL/Atl\\u00e9tico-MG/Volante/Jair\", \"ALL/Atl\\u00e9tico-GO/Atacante/Janderson\", \"ALL/Atl\\u00e9tico-GO/Goleiro/Jean\", \"ALL/Atl\\u00e9tico-GO/Zagueiro/Jo\\u00e3o Victor\", \"ALL/Atl\\u00e9tico-MG/Lateral esquerdo/Junior Alonso\", \"ALL/Atl\\u00e9tico-MG/Atacante/Keno\", \"ALL/Atl\\u00e9tico-MG/Lateral direito/Mariano\", \"ALL/Atl\\u00e9tico-GO/Meia/Matheus Vargas\", \"ALL/Atl\\u00e9tico-GO/Meia/Matheuzinho\", \"ALL/Atl\\u00e9tico-MG/Lateral direito/Ma\\u00edlton\", \"ALL/Atl\\u00e9tico-MG/Meia/Nathan\", \"ALL/Atl\\u00e9tico-GO/Lateral esquerdo/Nicolas\", \"ALL/Atl\\u00e9tico-GO/Zagueiro/Oliveira\", \"ALL/Atl\\u00e9tico-GO/Atacante/Renato Kayzer\", \"ALL/Atl\\u00e9tico-MG/Zagueiro/R\\u00e9ver\", \"ALL/Atl\\u00e9tico-MG/Meia/Savarino\", \"ALL/Atl\\u00e9tico-MG/Atacante/S\\u00e1vio\", \"ALL/Atl\\u00e9tico-GO/Zagueiro/\\u00c9der Ferreira\", \"ALL/Atl\\u00e9tico-GO/Atacante\", \"ALL/Atl\\u00e9tico-MG/Atacante\", \"ALL/Atl\\u00e9tico-GO/Goleiro\", \"ALL/Atl\\u00e9tico-MG/Goleiro\", \"ALL/Atl\\u00e9tico-GO/Lateral direito\", \"ALL/Atl\\u00e9tico-MG/Lateral direito\", \"ALL/Atl\\u00e9tico-GO/Lateral esquerdo\", \"ALL/Atl\\u00e9tico-MG/Lateral esquerdo\", \"ALL/Atl\\u00e9tico-GO/Meia\", \"ALL/Atl\\u00e9tico-MG/Meia\", \"ALL/Atl\\u00e9tico-GO/Volante\", \"ALL/Atl\\u00e9tico-MG/Volante\", \"ALL/Atl\\u00e9tico-GO/Zagueiro\", \"ALL/Atl\\u00e9tico-MG/Zagueiro\", \"ALL/Atl\\u00e9tico-GO\", \"ALL/Atl\\u00e9tico-MG\", \"ALL\"], \"labels\": [\"Alan Franco\", \"Allan\", \"Chico\", \"Dudu\", \"Edson\", \"Eduardo Sasha\", \"Everson\", \"Everton Felipe\", \"Gilvan\", \"Guga\", \"Guilherme Arana\", \"Gustavo Ferrareis\", \"Igor Rabello\", \"Jair\", \"Janderson\", \"Jean\", \"Jo\\u00e3o Victor\", \"Junior Alonso\", \"Keno\", \"Mariano\", \"Matheus Vargas\", \"Matheuzinho\", \"Ma\\u00edlton\", \"Nathan\", \"Nicolas\", \"Oliveira\", \"Renato Kayzer\", \"R\\u00e9ver\", \"Savarino\", \"S\\u00e1vio\", \"\\u00c9der Ferreira\", \"Atacante\", \"Atacante\", \"Goleiro\", \"Goleiro\", \"Lateral direito\", \"Lateral direito\", \"Lateral esquerdo\", \"Lateral esquerdo\", \"Meia\", \"Meia\", \"Volante\", \"Volante\", \"Zagueiro\", \"Zagueiro\", \"Atl\\u00e9tico-GO\", \"Atl\\u00e9tico-MG\", \"ALL\"], \"marker\": {\"coloraxis\": \"coloraxis\", \"colors\": [1.9210526315789473, 1.4186046511627908, 2.22, 2.3333333333333335, 1.8823529411764706, 1.380952380952381, 2.760869565217391, 2.8666666666666667, 2.7333333333333334, 1.78125, 1.5522388059701493, 2.2564102564102564, 1.7241379310344827, 1.5352112676056338, 2.7419354838709675, 4.164383561643835, 2.472972972972973, 1.9058823529411764, 2.575, 1.6923076923076923, 1.8571428571428572, 1.4, 1.6, 1.9, 1.88135593220339, 1.6521739130434783, 2.236842105263158, 1.6989247311827957, 2.6666666666666665, 2.0, 2.0833333333333335, 2.463768115942029, 2.1492537313432836, 4.164383561643835, 2.760869565217391, 2.3333333333333335, 1.7205882352941178, 1.88135593220339, 1.75, 2.2046783625730995, 2.135135135135135, 1.8823529411764706, 1.4912280701754386, 2.302857142857143, 1.7086092715231789, 2.4107692307692306, 1.8603667136812412, 2.123620309050773]}, \"name\": \"\", \"parents\": [\"ALL/Atl\\u00e9tico-MG/Meia\", \"ALL/Atl\\u00e9tico-MG/Volante\", \"ALL/Atl\\u00e9tico-GO/Meia\", \"ALL/Atl\\u00e9tico-GO/Lateral direito\", \"ALL/Atl\\u00e9tico-GO/Volante\", \"ALL/Atl\\u00e9tico-MG/Atacante\", \"ALL/Atl\\u00e9tico-MG/Goleiro\", \"ALL/Atl\\u00e9tico-GO/Meia\", \"ALL/Atl\\u00e9tico-GO/Zagueiro\", \"ALL/Atl\\u00e9tico-MG/Lateral direito\", \"ALL/Atl\\u00e9tico-MG/Lateral esquerdo\", \"ALL/Atl\\u00e9tico-GO/Meia\", \"ALL/Atl\\u00e9tico-MG/Zagueiro\", \"ALL/Atl\\u00e9tico-MG/Volante\", \"ALL/Atl\\u00e9tico-GO/Atacante\", \"ALL/Atl\\u00e9tico-GO/Goleiro\", \"ALL/Atl\\u00e9tico-GO/Zagueiro\", \"ALL/Atl\\u00e9tico-MG/Lateral esquerdo\", \"ALL/Atl\\u00e9tico-MG/Atacante\", \"ALL/Atl\\u00e9tico-MG/Lateral direito\", \"ALL/Atl\\u00e9tico-GO/Meia\", \"ALL/Atl\\u00e9tico-GO/Meia\", \"ALL/Atl\\u00e9tico-MG/Lateral direito\", \"ALL/Atl\\u00e9tico-MG/Meia\", \"ALL/Atl\\u00e9tico-GO/Lateral esquerdo\", \"ALL/Atl\\u00e9tico-GO/Zagueiro\", \"ALL/Atl\\u00e9tico-GO/Atacante\", \"ALL/Atl\\u00e9tico-MG/Zagueiro\", \"ALL/Atl\\u00e9tico-MG/Meia\", \"ALL/Atl\\u00e9tico-MG/Atacante\", \"ALL/Atl\\u00e9tico-GO/Zagueiro\", \"ALL/Atl\\u00e9tico-GO\", \"ALL/Atl\\u00e9tico-MG\", \"ALL/Atl\\u00e9tico-GO\", \"ALL/Atl\\u00e9tico-MG\", \"ALL/Atl\\u00e9tico-GO\", \"ALL/Atl\\u00e9tico-MG\", \"ALL/Atl\\u00e9tico-GO\", \"ALL/Atl\\u00e9tico-MG\", \"ALL/Atl\\u00e9tico-GO\", \"ALL/Atl\\u00e9tico-MG\", \"ALL/Atl\\u00e9tico-GO\", \"ALL/Atl\\u00e9tico-MG\", \"ALL/Atl\\u00e9tico-GO\", \"ALL/Atl\\u00e9tico-MG\", \"ALL\", \"ALL\", \"\"], \"type\": \"treemap\", \"values\": [76, 86, 100, 36, 170, 42, 92, 60, 60, 64, 134, 78, 116, 142, 62, 146, 148, 170, 80, 52, 84, 20, 20, 80, 118, 46, 76, 186, 66, 12, 96, 138, 134, 146, 92, 36, 136, 118, 304, 342, 222, 170, 228, 350, 302, 1300, 1418, 2718]}],                        {\"coloraxis\": {\"colorbar\": {\"title\": {\"text\": \"DURACAO\"}}, \"colorscale\": [[0.0, \"#0d0887\"], [0.1111111111111111, \"#46039f\"], [0.2222222222222222, \"#7201a8\"], [0.3333333333333333, \"#9c179e\"], [0.4444444444444444, \"#bd3786\"], [0.5555555555555556, \"#d8576b\"], [0.6666666666666666, \"#ed7953\"], [0.7777777777777778, \"#fb9f3a\"], [0.8888888888888888, \"#fdca26\"], [1.0, \"#f0f921\"]]}, \"legend\": {\"tracegroupgap\": 0}, \"margin\": {\"t\": 60}, \"template\": {\"data\": {\"bar\": [{\"error_x\": {\"color\": \"#2a3f5f\"}, \"error_y\": {\"color\": \"#2a3f5f\"}, \"marker\": {\"line\": {\"color\": \"#E5ECF6\", \"width\": 0.5}}, \"type\": \"bar\"}], \"barpolar\": [{\"marker\": {\"line\": {\"color\": \"#E5ECF6\", \"width\": 0.5}}, \"type\": \"barpolar\"}], \"carpet\": [{\"aaxis\": {\"endlinecolor\": \"#2a3f5f\", \"gridcolor\": \"white\", \"linecolor\": \"white\", \"minorgridcolor\": \"white\", \"startlinecolor\": \"#2a3f5f\"}, \"baxis\": {\"endlinecolor\": \"#2a3f5f\", \"gridcolor\": \"white\", \"linecolor\": \"white\", \"minorgridcolor\": \"white\", \"startlinecolor\": \"#2a3f5f\"}, \"type\": \"carpet\"}], \"choropleth\": [{\"colorbar\": {\"outlinewidth\": 0, \"ticks\": \"\"}, \"type\": \"choropleth\"}], \"contour\": [{\"colorbar\": {\"outlinewidth\": 0, \"ticks\": \"\"}, \"colorscale\": [[0.0, \"#0d0887\"], [0.1111111111111111, \"#46039f\"], [0.2222222222222222, \"#7201a8\"], [0.3333333333333333, \"#9c179e\"], [0.4444444444444444, \"#bd3786\"], [0.5555555555555556, \"#d8576b\"], [0.6666666666666666, \"#ed7953\"], [0.7777777777777778, \"#fb9f3a\"], [0.8888888888888888, \"#fdca26\"], [1.0, \"#f0f921\"]], \"type\": \"contour\"}], \"contourcarpet\": [{\"colorbar\": {\"outlinewidth\": 0, \"ticks\": \"\"}, \"type\": \"contourcarpet\"}], \"heatmap\": [{\"colorbar\": {\"outlinewidth\": 0, \"ticks\": \"\"}, \"colorscale\": [[0.0, \"#0d0887\"], [0.1111111111111111, \"#46039f\"], [0.2222222222222222, \"#7201a8\"], [0.3333333333333333, \"#9c179e\"], [0.4444444444444444, \"#bd3786\"], [0.5555555555555556, \"#d8576b\"], [0.6666666666666666, \"#ed7953\"], [0.7777777777777778, \"#fb9f3a\"], [0.8888888888888888, \"#fdca26\"], [1.0, \"#f0f921\"]], \"type\": \"heatmap\"}], \"heatmapgl\": [{\"colorbar\": {\"outlinewidth\": 0, \"ticks\": \"\"}, \"colorscale\": [[0.0, \"#0d0887\"], [0.1111111111111111, \"#46039f\"], [0.2222222222222222, \"#7201a8\"], [0.3333333333333333, \"#9c179e\"], [0.4444444444444444, \"#bd3786\"], [0.5555555555555556, \"#d8576b\"], [0.6666666666666666, \"#ed7953\"], [0.7777777777777778, \"#fb9f3a\"], [0.8888888888888888, \"#fdca26\"], [1.0, \"#f0f921\"]], \"type\": \"heatmapgl\"}], \"histogram\": [{\"marker\": {\"colorbar\": {\"outlinewidth\": 0, \"ticks\": \"\"}}, \"type\": \"histogram\"}], \"histogram2d\": [{\"colorbar\": {\"outlinewidth\": 0, \"ticks\": \"\"}, \"colorscale\": [[0.0, \"#0d0887\"], [0.1111111111111111, \"#46039f\"], [0.2222222222222222, \"#7201a8\"], [0.3333333333333333, \"#9c179e\"], [0.4444444444444444, \"#bd3786\"], [0.5555555555555556, \"#d8576b\"], [0.6666666666666666, \"#ed7953\"], [0.7777777777777778, \"#fb9f3a\"], [0.8888888888888888, \"#fdca26\"], [1.0, \"#f0f921\"]], \"type\": \"histogram2d\"}], \"histogram2dcontour\": [{\"colorbar\": {\"outlinewidth\": 0, \"ticks\": \"\"}, \"colorscale\": [[0.0, \"#0d0887\"], [0.1111111111111111, \"#46039f\"], [0.2222222222222222, \"#7201a8\"], [0.3333333333333333, \"#9c179e\"], [0.4444444444444444, \"#bd3786\"], [0.5555555555555556, \"#d8576b\"], [0.6666666666666666, \"#ed7953\"], [0.7777777777777778, \"#fb9f3a\"], [0.8888888888888888, \"#fdca26\"], [1.0, \"#f0f921\"]], \"type\": \"histogram2dcontour\"}], \"mesh3d\": [{\"colorbar\": {\"outlinewidth\": 0, \"ticks\": \"\"}, \"type\": \"mesh3d\"}], \"parcoords\": [{\"line\": {\"colorbar\": {\"outlinewidth\": 0, \"ticks\": \"\"}}, \"type\": \"parcoords\"}], \"pie\": [{\"automargin\": true, \"type\": \"pie\"}], \"scatter\": [{\"marker\": {\"colorbar\": {\"outlinewidth\": 0, \"ticks\": \"\"}}, \"type\": \"scatter\"}], \"scatter3d\": [{\"line\": {\"colorbar\": {\"outlinewidth\": 0, \"ticks\": \"\"}}, \"marker\": {\"colorbar\": {\"outlinewidth\": 0, \"ticks\": \"\"}}, \"type\": \"scatter3d\"}], \"scattercarpet\": [{\"marker\": {\"colorbar\": {\"outlinewidth\": 0, \"ticks\": \"\"}}, \"type\": \"scattercarpet\"}], \"scattergeo\": [{\"marker\": {\"colorbar\": {\"outlinewidth\": 0, \"ticks\": \"\"}}, \"type\": \"scattergeo\"}], \"scattergl\": [{\"marker\": {\"colorbar\": {\"outlinewidth\": 0, \"ticks\": \"\"}}, \"type\": \"scattergl\"}], \"scattermapbox\": [{\"marker\": {\"colorbar\": {\"outlinewidth\": 0, \"ticks\": \"\"}}, \"type\": \"scattermapbox\"}], \"scatterpolar\": [{\"marker\": {\"colorbar\": {\"outlinewidth\": 0, \"ticks\": \"\"}}, \"type\": \"scatterpolar\"}], \"scatterpolargl\": [{\"marker\": {\"colorbar\": {\"outlinewidth\": 0, \"ticks\": \"\"}}, \"type\": \"scatterpolargl\"}], \"scatterternary\": [{\"marker\": {\"colorbar\": {\"outlinewidth\": 0, \"ticks\": \"\"}}, \"type\": \"scatterternary\"}], \"surface\": [{\"colorbar\": {\"outlinewidth\": 0, \"ticks\": \"\"}, \"colorscale\": [[0.0, \"#0d0887\"], [0.1111111111111111, \"#46039f\"], [0.2222222222222222, \"#7201a8\"], [0.3333333333333333, \"#9c179e\"], [0.4444444444444444, \"#bd3786\"], [0.5555555555555556, \"#d8576b\"], [0.6666666666666666, \"#ed7953\"], [0.7777777777777778, \"#fb9f3a\"], [0.8888888888888888, \"#fdca26\"], [1.0, \"#f0f921\"]], \"type\": \"surface\"}], \"table\": [{\"cells\": {\"fill\": {\"color\": \"#EBF0F8\"}, \"line\": {\"color\": \"white\"}}, \"header\": {\"fill\": {\"color\": \"#C8D4E3\"}, \"line\": {\"color\": \"white\"}}, \"type\": \"table\"}]}, \"layout\": {\"annotationdefaults\": {\"arrowcolor\": \"#2a3f5f\", \"arrowhead\": 0, \"arrowwidth\": 1}, \"coloraxis\": {\"colorbar\": {\"outlinewidth\": 0, \"ticks\": \"\"}}, \"colorscale\": {\"diverging\": [[0, \"#8e0152\"], [0.1, \"#c51b7d\"], [0.2, \"#de77ae\"], [0.3, \"#f1b6da\"], [0.4, \"#fde0ef\"], [0.5, \"#f7f7f7\"], [0.6, \"#e6f5d0\"], [0.7, \"#b8e186\"], [0.8, \"#7fbc41\"], [0.9, \"#4d9221\"], [1, \"#276419\"]], \"sequential\": [[0.0, \"#0d0887\"], [0.1111111111111111, \"#46039f\"], [0.2222222222222222, \"#7201a8\"], [0.3333333333333333, \"#9c179e\"], [0.4444444444444444, \"#bd3786\"], [0.5555555555555556, \"#d8576b\"], [0.6666666666666666, \"#ed7953\"], [0.7777777777777778, \"#fb9f3a\"], [0.8888888888888888, \"#fdca26\"], [1.0, \"#f0f921\"]], \"sequentialminus\": [[0.0, \"#0d0887\"], [0.1111111111111111, \"#46039f\"], [0.2222222222222222, \"#7201a8\"], [0.3333333333333333, \"#9c179e\"], [0.4444444444444444, \"#bd3786\"], [0.5555555555555556, \"#d8576b\"], [0.6666666666666666, \"#ed7953\"], [0.7777777777777778, \"#fb9f3a\"], [0.8888888888888888, \"#fdca26\"], [1.0, \"#f0f921\"]]}, \"colorway\": [\"#636efa\", \"#EF553B\", \"#00cc96\", \"#ab63fa\", \"#FFA15A\", \"#19d3f3\", \"#FF6692\", \"#B6E880\", \"#FF97FF\", \"#FECB52\"], \"font\": {\"color\": \"#2a3f5f\"}, \"geo\": {\"bgcolor\": \"white\", \"lakecolor\": \"white\", \"landcolor\": \"#E5ECF6\", \"showlakes\": true, \"showland\": true, \"subunitcolor\": \"white\"}, \"hoverlabel\": {\"align\": \"left\"}, \"hovermode\": \"closest\", \"mapbox\": {\"style\": \"light\"}, \"paper_bgcolor\": \"white\", \"plot_bgcolor\": \"#E5ECF6\", \"polar\": {\"angularaxis\": {\"gridcolor\": \"white\", \"linecolor\": \"white\", \"ticks\": \"\"}, \"bgcolor\": \"#E5ECF6\", \"radialaxis\": {\"gridcolor\": \"white\", \"linecolor\": \"white\", \"ticks\": \"\"}}, \"scene\": {\"xaxis\": {\"backgroundcolor\": \"#E5ECF6\", \"gridcolor\": \"white\", \"gridwidth\": 2, \"linecolor\": \"white\", \"showbackground\": true, \"ticks\": \"\", \"zerolinecolor\": \"white\"}, \"yaxis\": {\"backgroundcolor\": \"#E5ECF6\", \"gridcolor\": \"white\", \"gridwidth\": 2, \"linecolor\": \"white\", \"showbackground\": true, \"ticks\": \"\", \"zerolinecolor\": \"white\"}, \"zaxis\": {\"backgroundcolor\": \"#E5ECF6\", \"gridcolor\": \"white\", \"gridwidth\": 2, \"linecolor\": \"white\", \"showbackground\": true, \"ticks\": \"\", \"zerolinecolor\": \"white\"}}, \"shapedefaults\": {\"line\": {\"color\": \"#2a3f5f\"}}, \"ternary\": {\"aaxis\": {\"gridcolor\": \"white\", \"linecolor\": \"white\", \"ticks\": \"\"}, \"baxis\": {\"gridcolor\": \"white\", \"linecolor\": \"white\", \"ticks\": \"\"}, \"bgcolor\": \"#E5ECF6\", \"caxis\": {\"gridcolor\": \"white\", \"linecolor\": \"white\", \"ticks\": \"\"}}, \"title\": {\"x\": 0.05}, \"xaxis\": {\"automargin\": true, \"gridcolor\": \"white\", \"linecolor\": \"white\", \"ticks\": \"\", \"title\": {\"standoff\": 15}, \"zerolinecolor\": \"white\", \"zerolinewidth\": 2}, \"yaxis\": {\"automargin\": true, \"gridcolor\": \"white\", \"linecolor\": \"white\", \"ticks\": \"\", \"title\": {\"standoff\": 15}, \"zerolinecolor\": \"white\", \"zerolinewidth\": 2}}}},                        {\"responsive\": true}                    ).then(function(){\n",
       "                            \n",
       "var gd = document.getElementById('60c46c4a-a7e6-4587-a968-9e8851dcfe74');\n",
       "var x = new MutationObserver(function (mutations, observer) {{\n",
       "        var display = window.getComputedStyle(gd).display;\n",
       "        if (!display || display === 'none') {{\n",
       "            console.log([gd, 'removed!']);\n",
       "            Plotly.purge(gd);\n",
       "            observer.disconnect();\n",
       "        }}\n",
       "}});\n",
       "\n",
       "// Listen for the removal of the full notebook cells\n",
       "var notebookContainer = gd.closest('#notebook-container');\n",
       "if (notebookContainer) {{\n",
       "    x.observe(notebookContainer, {childList: true});\n",
       "}}\n",
       "\n",
       "// Listen for the clearing of the current output cell\n",
       "var outputEl = gd.closest('.output');\n",
       "if (outputEl) {{\n",
       "    x.observe(outputEl, {childList: true});\n",
       "}}\n",
       "\n",
       "                        })                };                });            </script>        </div>"
      ]
     },
     "metadata": {},
     "output_type": "display_data"
    }
   ],
   "source": [
    "fig = px.treemap(df, \n",
    "                 path=['ALL', 'EQUIPE', 'POSICAO','JOGADOR'], \n",
    "                 values='TEMPO',\n",
    "                 color='DURACAO'\n",
    "                )\n",
    "fig.show()"
   ]
  }
 ],
 "metadata": {
  "kernelspec": {
   "display_name": "Python 3",
   "language": "python",
   "name": "python3"
  },
  "language_info": {
   "codemirror_mode": {
    "name": "ipython",
    "version": 3
   },
   "file_extension": ".py",
   "mimetype": "text/x-python",
   "name": "python",
   "nbconvert_exporter": "python",
   "pygments_lexer": "ipython3",
   "version": "3.8.3"
  }
 },
 "nbformat": 4,
 "nbformat_minor": 4
}
